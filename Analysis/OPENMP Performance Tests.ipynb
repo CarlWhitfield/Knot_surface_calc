{
 "cells": [
  {
   "cell_type": "markdown",
   "metadata": {},
   "source": [
    "# OPENMP performance tests, 15/06/2017"
   ]
  },
  {
   "cell_type": "markdown",
   "metadata": {},
   "source": [
    "The following is table of timed runs. ```-O3``` was disabled - there were no optimisation flags. The grid size was $128^3$. Thread counts were checked by runing omp_num_threads() inside the parallel region of the code.\n",
    "\n",
    "\n",
    "The first thing to say is that the output results are identical in all cases.\n",
    "\n",
    "(For my reference) The timestep was 0.02. The total Time was 20, i.e 1000 iterations"
   ]
  },
  {
   "cell_type": "markdown",
   "metadata": {},
   "source": [
    "| # threads  |  Time taken (mins,secs) | \n",
    "|---|---|---\n",
    "| 16  | 5:24  |      \n",
    "|  8 |  5:15 |     \n",
    "|  4 |  6:11 | \n",
    "|  2 |  10:10 |\n",
    "|  1 |  15:57 |\n",
    "|  1(no openmp code) |  16:55 |\n"
   ]
  },
  {
   "cell_type": "code",
   "execution_count": 17,
   "metadata": {},
   "outputs": [],
   "source": [
    "data = [16 324;8 315;4 371; 2 610; 1 957];"
   ]
  },
  {
   "cell_type": "code",
   "execution_count": 19,
   "metadata": {},
   "outputs": [
    {
     "data": {
      "image/png": "[encoded data removed]",
      "text/plain": [
       "<IPython.core.display.Image object>"
      ]
     },
     "metadata": {},
     "output_type": "display_data"
    }
   ],
   "source": [
    "plot(data(:,1),1./data(:,2),'Marker','o')\n",
    "xlabel('threads')\n",
    "ylabel('1/Time')"
   ]
  },
  {
   "cell_type": "markdown",
   "metadata": {},
   "source": [
    "There is also the fairly perplexing result that 1 thread in openmp runs faster than stripping the openmp out entirely (incl not using the openmp flag in compilation). Perhaps the flag applies some optimsations even in the case of 1 thread."
   ]
  },
  {
   "cell_type": "code",
   "execution_count": null,
   "metadata": {
    "collapsed": true
   },
   "outputs": [],
   "source": []
  }
 ],
 "metadata": {
  "kernelspec": {
   "display_name": "Matlab",
   "language": "matlab",
   "name": "matlab"
  },
  "language_info": {
   "codemirror_mode": "octave",
   "file_extension": ".m",
   "help_links": [
    {
     "text": "MetaKernel Magics",
     "url": "https://github.com/calysto/metakernel/blob/master/metakernel/magics/README.md"
    }
   ],
   "mimetype": "text/x-matlab",
   "name": "matlab",
   "version": "0.14.3"
  }
 },
 "nbformat": 4,
 "nbformat_minor": 2
}
